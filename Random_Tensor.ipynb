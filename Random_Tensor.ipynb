{
  "nbformat": 4,
  "nbformat_minor": 0,
  "metadata": {
    "colab": {
      "provenance": [],
      "authorship_tag": "ABX9TyPGvnibW0MhEMwVchLhKmGJ",
      "include_colab_link": true
    },
    "kernelspec": {
      "name": "python3",
      "display_name": "Python 3"
    },
    "language_info": {
      "name": "python"
    }
  },
  "cells": [
    {
      "cell_type": "markdown",
      "metadata": {
        "id": "view-in-github",
        "colab_type": "text"
      },
      "source": [
        "<a href=\"https://colab.research.google.com/github/mpradeep2005/Pytorch/blob/main/Random_Tensor.ipynb\" target=\"_parent\"><img src=\"https://colab.research.google.com/assets/colab-badge.svg\" alt=\"Open In Colab\"/></a>"
      ]
    },
    {
      "cell_type": "code",
      "execution_count": null,
      "metadata": {
        "id": "ZPPFky5YYvkA"
      },
      "outputs": [],
      "source": [
        "import torch"
      ]
    },
    {
      "cell_type": "markdown",
      "source": [
        "#Random tensors"
      ],
      "metadata": {
        "id": "Lo6dtp0UOTJc"
      }
    },
    {
      "cell_type": "code",
      "source": [
        "random=torch.rand(3,5)\n",
        "random"
      ],
      "metadata": {
        "colab": {
          "base_uri": "https://localhost:8080/"
        },
        "id": "RbUwT7cPZEe2",
        "outputId": "fdaddcc4-a7f9-4cb7-a714-d5ca72f20579"
      },
      "execution_count": null,
      "outputs": [
        {
          "output_type": "execute_result",
          "data": {
            "text/plain": [
              "tensor([[0.7688, 0.2459, 0.1880, 0.0152, 0.3240],\n",
              "        [0.3914, 0.4557, 0.5358, 0.4878, 0.4554],\n",
              "        [0.7553, 0.7010, 0.9916, 0.6326, 0.1996]])"
            ]
          },
          "metadata": {},
          "execution_count": 8
        }
      ]
    },
    {
      "cell_type": "code",
      "source": [
        "tensor=torch.rand(2,2,3,4,5)\n",
        "tensor"
      ],
      "metadata": {
        "collapsed": true,
        "id": "hDK6kK7gb76R"
      },
      "execution_count": null,
      "outputs": []
    },
    {
      "cell_type": "markdown",
      "source": [
        "## using size"
      ],
      "metadata": {
        "id": "6vyS17-YOYAp"
      }
    },
    {
      "cell_type": "code",
      "source": [
        "size=torch.rand(size=(255,255,3))\n",
        "size"
      ],
      "metadata": {
        "id": "0crEpghNcJWs"
      },
      "execution_count": null,
      "outputs": []
    },
    {
      "cell_type": "markdown",
      "source": [
        "## Creating Zeros"
      ],
      "metadata": {
        "id": "hLDUhuxHOeN5"
      }
    },
    {
      "cell_type": "code",
      "source": [
        "zero=torch.zeros(3,5)\n",
        "zero"
      ],
      "metadata": {
        "colab": {
          "base_uri": "https://localhost:8080/"
        },
        "id": "gwGqtW0PcVCD",
        "outputId": "ffb66864-3289-45fd-dfeb-ccec9a1908b1"
      },
      "execution_count": null,
      "outputs": [
        {
          "output_type": "execute_result",
          "data": {
            "text/plain": [
              "tensor([[0., 0., 0., 0., 0.],\n",
              "        [0., 0., 0., 0., 0.],\n",
              "        [0., 0., 0., 0., 0.]])"
            ]
          },
          "metadata": {},
          "execution_count": 20
        }
      ]
    },
    {
      "cell_type": "markdown",
      "source": [
        "## Creating Ones"
      ],
      "metadata": {
        "id": "fD-cFBv-OixR"
      }
    },
    {
      "cell_type": "code",
      "source": [
        "ones=torch.ones(3,5)\n",
        "ones"
      ],
      "metadata": {
        "colab": {
          "base_uri": "https://localhost:8080/"
        },
        "id": "wi0m7UlWcovo",
        "outputId": "870f946b-adb2-4716-b020-7390d72ecd2f"
      },
      "execution_count": null,
      "outputs": [
        {
          "output_type": "execute_result",
          "data": {
            "text/plain": [
              "tensor([[1., 1., 1., 1., 1.],\n",
              "        [1., 1., 1., 1., 1.],\n",
              "        [1., 1., 1., 1., 1.]])"
            ]
          },
          "metadata": {},
          "execution_count": 22
        }
      ]
    },
    {
      "cell_type": "markdown",
      "source": [
        "### Dtypes and ndim\n"
      ],
      "metadata": {
        "id": "vwOMzYhAOm_6"
      }
    },
    {
      "cell_type": "code",
      "source": [
        "print(ones.dtype)\n",
        "print(ones.shape)\n",
        "print(ones.ndim)"
      ],
      "metadata": {
        "colab": {
          "base_uri": "https://localhost:8080/"
        },
        "id": "HV4IRgDFcttw",
        "outputId": "df6e974a-78ad-4213-abc3-d739939a0890"
      },
      "execution_count": null,
      "outputs": [
        {
          "output_type": "stream",
          "name": "stdout",
          "text": [
            "torch.float32\n",
            "torch.Size([3, 5])\n",
            "2\n"
          ]
        }
      ]
    },
    {
      "cell_type": "code",
      "source": [],
      "metadata": {
        "id": "R26SrZJvlo54"
      },
      "execution_count": null,
      "outputs": []
    }
  ]
}